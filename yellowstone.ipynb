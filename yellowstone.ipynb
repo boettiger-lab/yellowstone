{
 "cells": [
  {
   "cell_type": "code",
   "execution_count": 1,
   "id": "5dd4429f-1611-4a1e-901a-c21c2ffebf79",
   "metadata": {},
   "outputs": [],
   "source": [
    "import ibis\n",
    "from ibis import _\n",
    "import leafmap.maplibregl as leafmap\n",
    "con = ibis.duckdb.connect(extensions=[\"spatial\"])\n",
    "parquet = \"/home/jovyan/huggingface/datasets/boettiger-lab/pad-us-3/pad-stats.parquet\"\n",
    "pad_df = con.read_parquet(parquet)\n",
    "\n",
    "#pad_df.group_by(_.manager_type).agg(n=_.count()).execute()\n",
    "#pad_df.filter(_.designation_type == \"Conservation Easement\").group_by(_.state).agg(n=_.count()).execute()\n",
    "x = con.read_geo(\"/home/jovyan/huggingface/datasets/boettiger-lab/pad-us-3/pad-stats.pmtiles\")"
   ]
  },
  {
   "cell_type": "code",
   "execution_count": 6,
   "id": "cb9f7c76-eca0-4510-8e84-d70f69b39f0b",
   "metadata": {},
   "outputs": [
    {
     "data": {
      "application/vnd.jupyter.widget-view+json": {
       "model_id": "bb6e1dda06024af8a1c2ff828a2cc10a",
       "version_major": 2,
       "version_minor": 0
      },
      "text/plain": [
       "FloatProgress(value=0.0, layout=Layout(width='auto'), style=ProgressStyle(bar_color='black'))"
      ]
     },
     "metadata": {},
     "output_type": "display_data"
    }
   ],
   "source": [
    "pad_df.mutate(geometry = _.geometry.convert(\"ESRI:54009\",\"epsg:4326\")).to_parquet(\"/home/jovyan/huggingface/datasets/boettiger-lab/pad-us-3/pad-stats-4326.parquet\")"
   ]
  },
  {
   "cell_type": "code",
   "execution_count": 2,
   "id": "bbbd3041-1689-4f68-9465-c032ea2a1619",
   "metadata": {},
   "outputs": [],
   "source": [
    "import geopandas as gpd \n",
    "gdf = gpd.read_parquet(parquet)"
   ]
  },
  {
   "cell_type": "code",
   "execution_count": 3,
   "id": "c6fb48cc-d6b9-41b4-ac3f-0e44104e6382",
   "metadata": {},
   "outputs": [
    {
     "data": {
      "text/plain": [
       "<Projected CRS: ESRI:54009>\n",
       "Name: World_Mollweide\n",
       "Axis Info [cartesian]:\n",
       "- [east]: Easting (metre)\n",
       "- [north]: Northing (metre)\n",
       "Area of Use:\n",
       "- undefined\n",
       "Coordinate Operation:\n",
       "- name: unnamed\n",
       "- method: Mollweide\n",
       "Datum: World Geodetic System 1984\n",
       "- Ellipsoid: WGS 84\n",
       "- Prime Meridian: Greenwich"
      ]
     },
     "execution_count": 3,
     "metadata": {},
     "output_type": "execute_result"
    }
   ],
   "source": [
    "gdf.crs"
   ]
  },
  {
   "cell_type": "code",
   "execution_count": 24,
   "id": "3a4fd809-8aec-407b-b102-9ab0d7361738",
   "metadata": {},
   "outputs": [
    {
     "data": {
      "text/html": [
       "<div>\n",
       "<style scoped>\n",
       "    .dataframe tbody tr th:only-of-type {\n",
       "        vertical-align: middle;\n",
       "    }\n",
       "\n",
       "    .dataframe tbody tr th {\n",
       "        vertical-align: top;\n",
       "    }\n",
       "\n",
       "    .dataframe thead th {\n",
       "        text-align: right;\n",
       "    }\n",
       "</style>\n",
       "<table border=\"1\" class=\"dataframe\">\n",
       "  <thead>\n",
       "    <tr style=\"text-align: right;\">\n",
       "      <th></th>\n",
       "      <th>manager_name</th>\n",
       "      <th>n</th>\n",
       "    </tr>\n",
       "  </thead>\n",
       "  <tbody>\n",
       "    <tr>\n",
       "      <th>0</th>\n",
       "      <td>Natural Resources Conservation Service</td>\n",
       "      <td>691</td>\n",
       "    </tr>\n",
       "    <tr>\n",
       "      <th>1</th>\n",
       "      <td>Other or Unknown Local Government</td>\n",
       "      <td>3</td>\n",
       "    </tr>\n",
       "    <tr>\n",
       "      <th>2</th>\n",
       "      <td>Other or Unknown State Land</td>\n",
       "      <td>10</td>\n",
       "    </tr>\n",
       "    <tr>\n",
       "      <th>3</th>\n",
       "      <td>U.S. Fish and Wildlife Service</td>\n",
       "      <td>204</td>\n",
       "    </tr>\n",
       "    <tr>\n",
       "      <th>4</th>\n",
       "      <td>Bureau of Land Management</td>\n",
       "      <td>52</td>\n",
       "    </tr>\n",
       "    <tr>\n",
       "      <th>5</th>\n",
       "      <td>State Department of Conservation</td>\n",
       "      <td>4</td>\n",
       "    </tr>\n",
       "    <tr>\n",
       "      <th>6</th>\n",
       "      <td>State Fish and Wildlife</td>\n",
       "      <td>19</td>\n",
       "    </tr>\n",
       "    <tr>\n",
       "      <th>7</th>\n",
       "      <td>National Park Service</td>\n",
       "      <td>217</td>\n",
       "    </tr>\n",
       "    <tr>\n",
       "      <th>8</th>\n",
       "      <td>Non-Governmental Organization</td>\n",
       "      <td>348</td>\n",
       "    </tr>\n",
       "    <tr>\n",
       "      <th>9</th>\n",
       "      <td>Forest Service</td>\n",
       "      <td>43</td>\n",
       "    </tr>\n",
       "  </tbody>\n",
       "</table>\n",
       "</div>"
      ],
      "text/plain": [
       "                             manager_name    n\n",
       "0  Natural Resources Conservation Service  691\n",
       "1       Other or Unknown Local Government    3\n",
       "2             Other or Unknown State Land   10\n",
       "3          U.S. Fish and Wildlife Service  204\n",
       "4               Bureau of Land Management   52\n",
       "5        State Department of Conservation    4\n",
       "6                 State Fish and Wildlife   19\n",
       "7                   National Park Service  217\n",
       "8           Non-Governmental Organization  348\n",
       "9                          Forest Service   43"
      ]
     },
     "execution_count": 24,
     "metadata": {},
     "output_type": "execute_result"
    }
   ],
   "source": [
    "easement = pad_df.filter(_.designation_type == \"Conservation Easement\", _.state.isin([\"WY\", \"MO\", \"ID\"]))\n",
    "\n",
    "easement.group_by(_.manager_name).agg(n = _.count()).execute()"
   ]
  },
  {
   "cell_type": "code",
   "execution_count": 17,
   "id": "b0390bb6-d932-4b0b-8032-6a1defd4f126",
   "metadata": {},
   "outputs": [],
   "source": [
    "import leafmap.maplibregl as leafmap\n",
    "m = leafmap.Map(center=(-110, 43.50), zoom=6, style=\"positron\")\n",
    "m.add_layer_control()\n",
    "\n",
    "m.add_basemap(\"Esri.NatGeoWorldMap\")\n",
    "\n",
    "\n",
    "hi=\"https://data.source.coop/vizzuality/hfp-100/hfp_2021_100m_v1-2_cog.tif\"\n",
    "m.add_cog_layer(hi, palette=\"purples\", name=\"Human Impact\", transparent_bg=True, opacity = 0.7, fit_bounds=False)\n",
    "\n",
    "deforest_carbon = \"https://data.source.coop/vizzuality/lg-land-carbon-data/deforest_carbon_100m_cog.tif\"\n",
    "m.add_cog_layer(deforest_carbon, palette=\"blues\", name=\"deforested carbon\", transparent_bg=True, opacity = 0.8, fit_bounds=False)\n",
    "\n",
    "m.add_cog_layer(\"https://data.source.coop/vizzuality/lg-land-carbon-data/natcrop_expansion_100m_cog.tif\",  palette=\"oranges\", name=\"cropland expansion\", transparent_bg=True, opacity = 0.8, fit_bounds=False)\n",
    "\n",
    "m.add_cog_layer(\"https://data.source.coop/vizzuality/lg-land-carbon-data/natcrop_bii_100m_cog.tif\", palette=\"reds\", name=\"biodiversity intactness loss\", transparent_bg=True, opacity = 0.8, fit_bounds=False)\n",
    "    \n",
    "   \n",
    "m.add_cog_layer(\"https://data.source.coop/vizzuality/lg-land-carbon-data/natcrop_fii_100m_cog.tif\",  palette=\"greens\", name=\"forest integrity loss\", transparent_bg=True, opacity = 0.8, fit_bounds=False)\n",
    "\n",
    "\n"
   ]
  },
  {
   "cell_type": "code",
   "execution_count": 18,
   "id": "2d866688-f6a6-4052-b1e9-19adfd740c78",
   "metadata": {},
   "outputs": [],
   "source": [
    "pad_pmtiles = \"https://huggingface.co/datasets/boettiger-lab/pad-us-3/resolve/main/pad-stats.pmtiles\"\n",
    "style = {\n",
    "    \"version\": 8,\n",
    "    \"sources\": {\n",
    "        \"pad\": {\n",
    "            \"type\": \"vector\",\n",
    "            \"url\": \"pmtiles://\" + pad_pmtiles,\n",
    "            \"filter\": ['==', 'designation_type', 'Conservation Easement'],\n",
    "            \"attribution\": \"US PAD v3\"}},\n",
    "    \"layers\": [{\n",
    "            \"id\": \"Easements\",\n",
    "            \"source\": \"pad\",\n",
    "            \"source-layer\": \"pad-stats\",\n",
    "            \"type\": \"fill\",\n",
    "            \"paint\": {\n",
    "                \"fill-color\": \"#FFA07A\",\n",
    "                \"fill-opacity\": 0.8\n",
    "            }\n",
    "        }]}"
   ]
  },
  {
   "cell_type": "code",
   "execution_count": 19,
   "id": "2e779cb2-3acb-4f5f-b07b-214a94a47d2e",
   "metadata": {},
   "outputs": [
    {
     "data": {
      "application/vnd.jupyter.widget-view+json": {
       "model_id": "9576f51d5cdc41efb8ddf4ccd424d94c",
       "version_major": 2,
       "version_minor": 1
      },
      "text/plain": [
       "Map(height='600px', map_options={'bearing': 0, 'center': (-110, 43.5), 'pitch': 0, 'style': 'https://tiles.ope…"
      ]
     },
     "execution_count": 19,
     "metadata": {},
     "output_type": "execute_result"
    }
   ],
   "source": [
    "m.add_pmtiles(pad_pmtiles, style=style, visible=True, tooltip=False,   fit_bounds=False)\n",
    "#m.to_html(\"yellowstone_impacts.html\")\n",
    "m\n"
   ]
  }
 ],
 "metadata": {
  "kernelspec": {
   "display_name": "Python 3 (ipykernel)",
   "language": "python",
   "name": "python3"
  },
  "language_info": {
   "codemirror_mode": {
    "name": "ipython",
    "version": 3
   },
   "file_extension": ".py",
   "mimetype": "text/x-python",
   "name": "python",
   "nbconvert_exporter": "python",
   "pygments_lexer": "ipython3",
   "version": "3.11.10"
  }
 },
 "nbformat": 4,
 "nbformat_minor": 5
}
