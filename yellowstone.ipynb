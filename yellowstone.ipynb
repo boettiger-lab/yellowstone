{
 "cells": [
  {
   "cell_type": "code",
   "execution_count": 2,
   "id": "5dd4429f-1611-4a1e-901a-c21c2ffebf79",
   "metadata": {},
   "outputs": [],
   "source": [
    "import ibis\n",
    "from ibis import _\n",
    "import leafmap.maplibregl as leafmap\n",
    "con = ibis.duckdb.connect(extensions=[\"spatial\"])"
   ]
  },
  {
   "cell_type": "code",
   "execution_count": 42,
   "id": "b0390bb6-d932-4b0b-8032-6a1defd4f126",
   "metadata": {},
   "outputs": [
    {
     "data": {
      "application/vnd.jupyter.widget-view+json": {
       "model_id": "3ed9ee1c33264f6d92fa3a2b25e32f9e",
       "version_major": 2,
       "version_minor": 1
      },
      "text/plain": [
       "Map(height='600px', map_options={'bearing': 0, 'center': (-110, 43.5), 'pitch': 0, 'style': 'https://tiles.ope…"
      ]
     },
     "execution_count": 42,
     "metadata": {},
     "output_type": "execute_result"
    }
   ],
   "source": [
    "import leafmap.maplibregl as leafmap\n",
    "m = leafmap.Map(center=(-110, 43.50), zoom=6, style=\"positron\")\n",
    "\n",
    "m.add_basemap(\"Esri.NatGeoWorldMap\")\n",
    "\n",
    "\n",
    "hi=\"https://data.source.coop/vizzuality/hfp-100/hfp_2021_100m_v1-2_cog.tif\"\n",
    "m.add_cog_layer(hi, palette=\"purples\", name=\"Human Impact\", transparent_bg=True, opacity = 0.8, fit_bounds=False)\n",
    "\n",
    "deforest_carbon = \"https://data.source.coop/vizzuality/lg-land-carbon-data/deforest_carbon_100m_cog.tif\"\n",
    "m.add_cog_layer(deforest_carbon, palette=\"blues\", name=\"deforested carbon\", transparent_bg=True, opacity = 0.8, fit_bounds=False)\n",
    "\n",
    "m.add_cog_layer(\"https://data.source.coop/vizzuality/lg-land-carbon-data/natcrop_expansion_100m_cog.tif\",  palette=\"oranges\", name=\"cropland expansion\", transparent_bg=True, opacity = 0.8, fit_bounds=False)\n",
    "\n",
    "m.add_cog_layer(\"https://data.source.coop/vizzuality/lg-land-carbon-data/natcrop_bii_100m_cog.tif\", palette=\"reds\", name=\"biodiversity intactness loss\", transparent_bg=True, opacity = 0.8, fit_bounds=False)\n",
    "    \n",
    "   \n",
    "m.add_cog_layer(\"https://data.source.coop/vizzuality/lg-land-carbon-data/natcrop_fii_100m_cog.tif\",  palette=\"greens\", name=\"forest integrity loss\", transparent_bg=True, opacity = 0.8, fit_bounds=False)\n",
    "\n",
    "pad_pmtiles = \"https://huggingface.co/datasets/boettiger-lab/pad-us-3/resolve/main/pad-stats.pmtiles\"\n",
    "\n",
    "m.add_layer_control()\n",
    "m.to_html(\"yellowstone_impacts.html\")\n",
    "m\n"
   ]
  },
  {
   "cell_type": "code",
   "execution_count": null,
   "id": "2e779cb2-3acb-4f5f-b07b-214a94a47d2e",
   "metadata": {},
   "outputs": [],
   "source": []
  }
 ],
 "metadata": {
  "kernelspec": {
   "display_name": "Python 3 (ipykernel)",
   "language": "python",
   "name": "python3"
  },
  "language_info": {
   "codemirror_mode": {
    "name": "ipython",
    "version": 3
   },
   "file_extension": ".py",
   "mimetype": "text/x-python",
   "name": "python",
   "nbconvert_exporter": "python",
   "pygments_lexer": "ipython3",
   "version": "3.11.10"
  }
 },
 "nbformat": 4,
 "nbformat_minor": 5
}
